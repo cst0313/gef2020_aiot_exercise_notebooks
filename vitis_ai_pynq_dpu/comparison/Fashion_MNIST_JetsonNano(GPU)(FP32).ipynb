{
 "cells": [
  {
   "cell_type": "markdown",
   "id": "77460792",
   "metadata": {},
   "source": [
    "## Run 'sudo jetson_clocks' before running this notebook¶"
   ]
  },
  {
   "cell_type": "markdown",
   "id": "0d478959",
   "metadata": {},
   "source": [
    "# Import Required Packages"
   ]
  },
  {
   "cell_type": "code",
   "execution_count": 1,
   "id": "ff37257d",
   "metadata": {},
   "outputs": [],
   "source": [
    "import tensorrt as trt\n",
    "import mnist_reader\n",
    "import numpy as np\n",
    "from matplotlib import pyplot as plt\n",
    "from tqdm import tqdm\n",
    "from helper import *"
   ]
  },
  {
   "cell_type": "markdown",
   "id": "3b180102",
   "metadata": {},
   "source": [
    "# GPU Info"
   ]
  },
  {
   "cell_type": "code",
   "execution_count": 2,
   "id": "6289b9ce",
   "metadata": {},
   "outputs": [],
   "source": [
    "from jtop import jtop\n",
    "\n",
    "with jtop() as jetson:\n",
    "    board = jetson.board\n",
    "    NV_Power_Mode = jetson.nvpmodel"
   ]
  },
  {
   "cell_type": "code",
   "execution_count": 3,
   "id": "7d899c74",
   "metadata": {},
   "outputs": [
    {
     "name": "stdout",
     "output_type": "stream",
     "text": [
      "NV Power Mode:       MAXN                \n",
      "\n",
      "\n",
      "Board info:\n",
      "==============================================================================================\n",
      "machine:             NVIDIA Jetson Nano (Developer Kit Version)\n",
      "jetpack:             4.6                 \n",
      "L4T:                 32.6.1              \n",
      "\n",
      "\n",
      "Hardware:\n",
      "==============================================================================================\n",
      "TYPE:                Nano (Developer Kit Version)\n",
      "CODENAME:            porg                \n",
      "SOC:                 tegra210            \n",
      "CHIP_ID:             33                  \n",
      "BOARDIDS:            3448                \n",
      "MODULE:              P3448-0000          \n",
      "BOARD:               P3449-0000          \n",
      "CUDA_ARCH_BIN:       5.3                 \n",
      "SERIAL_NUMBER:       0421119002548       \n",
      "\n",
      "\n",
      "Libraries:\n",
      "==============================================================================================\n",
      "CUDA:                10.2.300            \n",
      "cuDNN:               8.2.1.32            \n",
      "TensorRT:            8.0.1.6             \n",
      "VisionWorks:         1.6.0.501           \n",
      "OpenCV:              4.1.1               \n",
      "OpenCV-Cuda:         NO                  \n",
      "VPI:                 ii libnvvpi1 1.1.12 arm64 NVIDIA Vision Programming Interface library\n",
      "Vulkan:              1.2.70              \n"
     ]
    }
   ],
   "source": [
    "print('{:<20} {:<20}'.format('NV Power Mode:',NV_Power_Mode.name))\n",
    "print('\\n') \n",
    "print('Board info:')\n",
    "print('==============================================================================================') \n",
    "for k, v in board.info.items():\n",
    "    print (\"{:<20} {:<20}\".format(k+':',v))  \n",
    "    \n",
    "print('\\n')     \n",
    "print('Hardware:')\n",
    "print('==============================================================================================') \n",
    "for k, v in board.hardware.items():\n",
    "    print (\"{:<20} {:<20}\".format(k+':',v))\n",
    "\n",
    "print('\\n') \n",
    "print('Libraries:')\n",
    "print('==============================================================================================') \n",
    "for k, v in board.libraries.items():\n",
    "    print (\"{:<20} {:<20}\".format(k+':',v))\n"
   ]
  },
  {
   "cell_type": "markdown",
   "id": "d4101962",
   "metadata": {},
   "source": [
    "# Loading the Fashion MNIST Dataset"
   ]
  },
  {
   "cell_type": "code",
   "execution_count": 4,
   "id": "dd03ad51",
   "metadata": {},
   "outputs": [],
   "source": [
    "fashion_mnist_labels = [\"T-shirt/top\", \n",
    "                            \"Trouser\",\n",
    "                            \"Pullover\",\n",
    "                            \"Dress\",\n",
    "                            \"Coat\",\n",
    "                            \"Sandal\", \n",
    "                            \"Shirt\",\n",
    "                            \"Sneaker\",\n",
    "                            \"Bag\",\n",
    "                            \"Ankle boot\"]"
   ]
  },
  {
   "cell_type": "code",
   "execution_count": 5,
   "id": "404df211",
   "metadata": {},
   "outputs": [],
   "source": [
    "x_test,y_test = mnist_reader.load_mnist('data/fashion', kind='t10k')"
   ]
  },
  {
   "cell_type": "code",
   "execution_count": 6,
   "id": "31dab3ad",
   "metadata": {},
   "outputs": [
    {
     "name": "stdout",
     "output_type": "stream",
     "text": [
      "Test size: 10000\n",
      "Test data shape: (10000, 28, 28, 1)\n"
     ]
    }
   ],
   "source": [
    "x_test = x_test/255\n",
    "\n",
    "test_size = x_test.shape[0]\n",
    "\n",
    "INPUT_SHAPE = [28,28,1] \n",
    "\n",
    "x_test = x_test.reshape([-1]+INPUT_SHAPE)\n",
    "\n",
    "\n",
    "print(f'Test size: {test_size}')\n",
    "print(f'Test data shape: {x_test.shape}')\n"
   ]
  },
  {
   "cell_type": "markdown",
   "id": "f9f1ab13",
   "metadata": {},
   "source": [
    "# Loading and Running the TensorRT Engine"
   ]
  },
  {
   "cell_type": "code",
   "execution_count": 7,
   "id": "70fb980b",
   "metadata": {},
   "outputs": [
    {
     "name": "stdout",
     "output_type": "stream",
     "text": [
      "Reading engine from file fp32_model.trt\n"
     ]
    }
   ],
   "source": [
    "fp32_engine = load_engine(\"fp32_model.trt\")"
   ]
  },
  {
   "cell_type": "code",
   "execution_count": 8,
   "id": "030be802",
   "metadata": {},
   "outputs": [
    {
     "name": "stderr",
     "output_type": "stream",
     "text": [
      "100%|██████████| 10000/10000 [01:48<00:00, 92.33it/s]"
     ]
    },
    {
     "name": "stdout",
     "output_type": "stream",
     "text": [
      "accuracy: 0.9186\n"
     ]
    },
    {
     "name": "stderr",
     "output_type": "stream",
     "text": [
      "\n"
     ]
    }
   ],
   "source": [
    "num_pics = x_test.shape[0]\n",
    "prediction = np.zeros((num_pics), dtype = np.uint8)\n",
    "\n",
    "\n",
    "for i in tqdm(range(num_pics)):\n",
    "    score = infer(fp32_engine, np.expand_dims(x_test[i],axis=0))\n",
    "    prediction[i] = score.argmax()\n",
    "        \n",
    "print('accuracy:', np.mean(prediction == y_test))"
   ]
  },
  {
   "cell_type": "markdown",
   "id": "75f5d556",
   "metadata": {},
   "source": [
    "# Timing Operations"
   ]
  },
  {
   "cell_type": "code",
   "execution_count": 9,
   "id": "bdb4585a",
   "metadata": {},
   "outputs": [],
   "source": [
    "img = np.expand_dims(x_test[0],axis=0)\n"
   ]
  },
  {
   "cell_type": "code",
   "execution_count": 10,
   "id": "09c801c6",
   "metadata": {},
   "outputs": [
    {
     "data": {
      "text/plain": [
       "<TimeitResult : 9.71 ms ± 124 µs per loop (mean ± std. dev. of 1000 runs, 1 loop each)>"
      ]
     },
     "execution_count": 10,
     "metadata": {},
     "output_type": "execute_result"
    }
   ],
   "source": [
    "%%timeit -o -r 1000 -n 1 -q\n",
    "\n",
    "score = infer(fp32_engine, img)    "
   ]
  },
  {
   "cell_type": "code",
   "execution_count": 11,
   "id": "cd03c777",
   "metadata": {},
   "outputs": [
    {
     "name": "stdout",
     "output_type": "stream",
     "text": [
      "FPS: 103.00956462658537\n"
     ]
    }
   ],
   "source": [
    "result = _\n",
    "print('FPS:',1/np.mean(result.all_runs))"
   ]
  },
  {
   "cell_type": "markdown",
   "id": "697aa56f",
   "metadata": {},
   "source": [
    "# Plotting the Result"
   ]
  },
  {
   "cell_type": "code",
   "execution_count": 12,
   "id": "eb59daef",
   "metadata": {},
   "outputs": [
    {
     "data": {
      "image/png": "[encoded data removed]",
      "text/plain": [
       "<Figure size 1440x576 with 15 Axes>"
      ]
     },
     "metadata": {},
     "output_type": "display_data"
    }
   ],
   "source": [
    "figure = plt.figure(figsize=(20,8))\n",
    "\n",
    "for i, index in enumerate(np.random.choice(x_test.shape[0], size=15, replace=False)):\n",
    "    ax = figure.add_subplot(3, 5, i + 1, xticks=[], yticks=[])\n",
    "   \n",
    "    ax.imshow(x_test[index].reshape(28,28), cmap='gray')\n",
    "    predict_index = prediction[index]\n",
    "    true_index = y_test[index]\n",
    "   \n",
    "    ax.set_title(\"{} ({})\".format(fashion_mnist_labels[predict_index], \n",
    "                fashion_mnist_labels[true_index]),\n",
    "                color=(\"green\" if predict_index == true_index else \"red\"))"
   ]
  },
  {
   "cell_type": "code",
   "execution_count": null,
   "id": "e604a75d",
   "metadata": {},
   "outputs": [],
   "source": []
  }
 ],
 "metadata": {
  "kernelspec": {
   "display_name": "Python 3",
   "language": "python",
   "name": "python3"
  },
  "language_info": {
   "codemirror_mode": {
    "name": "ipython",
    "version": 3
   },
   "file_extension": ".py",
   "mimetype": "text/x-python",
   "name": "python",
   "nbconvert_exporter": "python",
   "pygments_lexer": "ipython3",
   "version": "3.6.9"
  }
 },
 "nbformat": 4,
 "nbformat_minor": 5
}
