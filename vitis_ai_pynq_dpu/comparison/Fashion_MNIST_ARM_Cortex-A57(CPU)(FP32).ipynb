{
 "cells": [
  {
   "cell_type": "markdown",
   "id": "3a80a7fd",
   "metadata": {},
   "source": [
    "# Import Required Packages"
   ]
  },
  {
   "cell_type": "code",
   "execution_count": 1,
   "id": "061e995a",
   "metadata": {},
   "outputs": [
    {
     "name": "stdout",
     "output_type": "stream",
     "text": [
      "Num GPUs Available:  0\n",
      "Tensorflow version: 2.5.0\n",
      "Available devices: [PhysicalDevice(name='/physical_device:CPU:0', device_type='CPU')]\n"
     ]
    }
   ],
   "source": [
    "import numpy as np\n",
    "import tensorflow as tf\n",
    "import os\n",
    "os.environ[\"CUDA_VISIBLE_DEVICES\"] = \"-1\"\n",
    "num_gpu_available = len(tf.config.list_physical_devices('GPU'))\n",
    "print(\"Num GPUs Available: \", num_gpu_available)\n",
    "assert num_gpu_available==0\n",
    "print('Tensorflow version:',tf.__version__)\n",
    "from matplotlib import pyplot as plt\n",
    "from tqdm import tqdm\n",
    "import mnist_reader\n",
    "print('Available devices:', tf.config.list_physical_devices())"
   ]
  },
  {
   "cell_type": "markdown",
   "id": "d3be7a81",
   "metadata": {},
   "source": [
    "# CPU Info"
   ]
  },
  {
   "cell_type": "code",
   "execution_count": 2,
   "id": "c9ab2483",
   "metadata": {},
   "outputs": [
    {
     "name": "stdout",
     "output_type": "stream",
     "text": [
      "Architecture:        aarch64\r\n",
      "Byte Order:          Little Endian\r\n",
      "CPU(s):              4\r\n",
      "On-line CPU(s) list: 0-3\r\n",
      "Thread(s) per core:  1\r\n",
      "Core(s) per socket:  4\r\n",
      "Socket(s):           1\r\n",
      "Vendor ID:           ARM\r\n",
      "Model:               1\r\n",
      "Model name:          Cortex-A57\r\n",
      "Stepping:            r1p1\r\n",
      "CPU max MHz:         1479.0000\r\n",
      "CPU min MHz:         102.0000\r\n",
      "BogoMIPS:            38.40\r\n",
      "L1d cache:           32K\r\n",
      "L1i cache:           48K\r\n",
      "L2 cache:            2048K\r\n",
      "Flags:               fp asimd evtstrm aes pmull sha1 sha2 crc32\r\n"
     ]
    }
   ],
   "source": [
    "!lscpu"
   ]
  },
  {
   "cell_type": "markdown",
   "id": "e0bca91f",
   "metadata": {},
   "source": [
    "# Loading the Model"
   ]
  },
  {
   "cell_type": "code",
   "execution_count": 3,
   "id": "aab23499",
   "metadata": {},
   "outputs": [
    {
     "name": "stdout",
     "output_type": "stream",
     "text": [
      "Model: \"regularized_model\"\n",
      "_________________________________________________________________\n",
      "Layer (type)                 Output Shape              Param #   \n",
      "=================================================================\n",
      "input_1 (InputLayer)         [(None, 28, 28, 1)]       0         \n",
      "_________________________________________________________________\n",
      "conv2d (Conv2D)              (None, 28, 28, 64)        1088      \n",
      "_________________________________________________________________\n",
      "max_pooling2d (MaxPooling2D) (None, 14, 14, 64)        0         \n",
      "_________________________________________________________________\n",
      "dropout (Dropout)            (None, 14, 14, 64)        0         \n",
      "_________________________________________________________________\n",
      "conv2d_1 (Conv2D)            (None, 11, 11, 64)        65600     \n",
      "_________________________________________________________________\n",
      "max_pooling2d_1 (MaxPooling2 (None, 5, 5, 64)          0         \n",
      "_________________________________________________________________\n",
      "dropout_1 (Dropout)          (None, 5, 5, 64)          0         \n",
      "_________________________________________________________________\n",
      "conv2d_2 (Conv2D)            (None, 2, 2, 64)          65600     \n",
      "_________________________________________________________________\n",
      "max_pooling2d_2 (MaxPooling2 (None, 1, 1, 64)          0         \n",
      "_________________________________________________________________\n",
      "flatten (Flatten)            (None, 64)                0         \n",
      "_________________________________________________________________\n",
      "dropout_2 (Dropout)          (None, 64)                0         \n",
      "_________________________________________________________________\n",
      "dense (Dense)                (None, 1000)              65000     \n",
      "_________________________________________________________________\n",
      "dropout_3 (Dropout)          (None, 1000)              0         \n",
      "_________________________________________________________________\n",
      "dense_1 (Dense)              (None, 64)                64064     \n",
      "_________________________________________________________________\n",
      "dense_2 (Dense)              (None, 10)                650       \n",
      "=================================================================\n",
      "Total params: 262,002\n",
      "Trainable params: 262,002\n",
      "Non-trainable params: 0\n",
      "_________________________________________________________________\n"
     ]
    }
   ],
   "source": [
    "model = tf.keras.models.load_model('float_model.h5')\n",
    "model.summary()"
   ]
  },
  {
   "cell_type": "markdown",
   "id": "4a6b241a",
   "metadata": {},
   "source": [
    "# Loading the Fashion MNIST Dataset"
   ]
  },
  {
   "cell_type": "code",
   "execution_count": 4,
   "id": "2d7970e2",
   "metadata": {},
   "outputs": [],
   "source": [
    "fashion_mnist_labels = [\"T-shirt/top\", \n",
    "                            \"Trouser\",\n",
    "                            \"Pullover\",\n",
    "                            \"Dress\",\n",
    "                            \"Coat\",\n",
    "                            \"Sandal\", \n",
    "                            \"Shirt\",\n",
    "                            \"Sneaker\",\n",
    "                            \"Bag\",\n",
    "                            \"Ankle boot\"]"
   ]
  },
  {
   "cell_type": "code",
   "execution_count": 5,
   "id": "f412656a",
   "metadata": {},
   "outputs": [],
   "source": [
    "x_test,y_test = mnist_reader.load_mnist('data/fashion', kind='t10k')"
   ]
  },
  {
   "cell_type": "code",
   "execution_count": 6,
   "id": "cd01b44f",
   "metadata": {},
   "outputs": [
    {
     "name": "stdout",
     "output_type": "stream",
     "text": [
      "Test size: 10000\n",
      "Test data shape: (10000, 28, 28, 1)\n"
     ]
    }
   ],
   "source": [
    "#feature scaling (Hint:255 is the maximum pixel value)\n",
    "x_test = x_test/255\n",
    "\n",
    "num_classes = 10 #no. of classes\n",
    "\n",
    "test_size = x_test.shape[0]\n",
    "\n",
    "# Reshaping the data\n",
    "INPUT_SHAPE = [28,28,1] #input shape for one image\n",
    "\n",
    "x_test = x_test.reshape([-1]+INPUT_SHAPE)\n",
    "\n",
    "\n",
    "print(f'Test size: {test_size}')\n",
    "print(f'Test data shape: {x_test.shape}')\n"
   ]
  },
  {
   "cell_type": "markdown",
   "id": "b524027d",
   "metadata": {},
   "source": [
    "# Running the Model"
   ]
  },
  {
   "cell_type": "code",
   "execution_count": 7,
   "id": "9f2fd993",
   "metadata": {},
   "outputs": [
    {
     "name": "stderr",
     "output_type": "stream",
     "text": [
      "100%|██████████| 10000/10000 [29:16<00:00,  5.69it/s]"
     ]
    },
    {
     "name": "stdout",
     "output_type": "stream",
     "text": [
      "accuracy: 0.9186\n"
     ]
    },
    {
     "name": "stderr",
     "output_type": "stream",
     "text": [
      "\n"
     ]
    }
   ],
   "source": [
    "num_pics = x_test.shape[0]\n",
    "prediction = np.zeros((num_pics), dtype = np.uint8)\n",
    "\n",
    "for i in tqdm(range(num_pics)):\n",
    "    score = model.predict(np.expand_dims(x_test[i],axis=0)).ravel()\n",
    "    prediction[i] = score.argmax()\n",
    "    \n",
    "print('accuracy:', np.mean(prediction == y_test))"
   ]
  },
  {
   "cell_type": "markdown",
   "id": "edef96b5",
   "metadata": {},
   "source": [
    "# Timing Operations"
   ]
  },
  {
   "cell_type": "code",
   "execution_count": 8,
   "id": "af7c0678",
   "metadata": {},
   "outputs": [],
   "source": [
    "img = np.expand_dims(x_test[0],axis=0)"
   ]
  },
  {
   "cell_type": "code",
   "execution_count": 9,
   "id": "3124a03f",
   "metadata": {},
   "outputs": [
    {
     "data": {
      "text/plain": [
       "<TimeitResult : 162 ms ± 3.42 ms per loop (mean ± std. dev. of 1000 runs, 1 loop each)>"
      ]
     },
     "execution_count": 9,
     "metadata": {},
     "output_type": "execute_result"
    }
   ],
   "source": [
    "%%timeit -o -r 1000 -n 1 -q\n",
    "\n",
    "model.predict(img)"
   ]
  },
  {
   "cell_type": "code",
   "execution_count": 10,
   "id": "a4580041",
   "metadata": {},
   "outputs": [
    {
     "name": "stdout",
     "output_type": "stream",
     "text": [
      "FPS: 6.165268699723537\n"
     ]
    }
   ],
   "source": [
    "result = _\n",
    "print('FPS:',1/np.mean(result.all_runs))"
   ]
  },
  {
   "cell_type": "markdown",
   "id": "9ace4410",
   "metadata": {},
   "source": [
    "# Plotting the Result"
   ]
  },
  {
   "cell_type": "code",
   "execution_count": 11,
   "id": "56f8319b",
   "metadata": {},
   "outputs": [
    {
     "data": {
      "image/png": "[encoded data removed]",
      "text/plain": [
       "<Figure size 1440x576 with 15 Axes>"
      ]
     },
     "metadata": {},
     "output_type": "display_data"
    }
   ],
   "source": [
    "figure = plt.figure(figsize=(20,8))\n",
    "\n",
    "for i, index in enumerate(np.random.choice(x_test.shape[0], size=15, replace=False)):\n",
    "    ax = figure.add_subplot(3, 5, i + 1, xticks=[], yticks=[])\n",
    "   \n",
    "    ax.imshow(x_test[index].reshape(28,28), cmap='gray')\n",
    "    predict_index = prediction[index]\n",
    "    true_index = y_test[index]\n",
    "   \n",
    "    ax.set_title(\"{} ({})\".format(fashion_mnist_labels[predict_index], \n",
    "                fashion_mnist_labels[true_index]),\n",
    "                color=(\"green\" if predict_index == true_index else \"red\"))"
   ]
  },
  {
   "cell_type": "code",
   "execution_count": null,
   "id": "2a1977b8",
   "metadata": {},
   "outputs": [],
   "source": []
  }
 ],
 "metadata": {
  "kernelspec": {
   "display_name": "Python 3",
   "language": "python",
   "name": "python3"
  },
  "language_info": {
   "codemirror_mode": {
    "name": "ipython",
    "version": 3
   },
   "file_extension": ".py",
   "mimetype": "text/x-python",
   "name": "python",
   "nbconvert_exporter": "python",
   "pygments_lexer": "ipython3",
   "version": "3.6.9"
  }
 },
 "nbformat": 4,
 "nbformat_minor": 5
}
